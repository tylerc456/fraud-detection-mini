{
 "cells": [
  {
   "cell_type": "code",
   "execution_count": null,
   "id": "9e426473-ec7a-4ee1-8777-ca9ed0990aaa",
   "metadata": {},
   "outputs": [],
   "source": [
    "# Fraud Detection Mini Project - Project Plan\n",
    "\n",
    "## Objective\n",
    "Build a simple fraud detection model using public transaction data.\n",
    "Focus on practicing data wrangling, exploratory analysis, feature engineering, and baseline modeling.\n",
    "\n",
    "## Phase 1: Data Exploration\n",
    "- [ ] Generate synthetic transaction data\n",
    "    Each transaction should have:\n",
    "    time/date\n",
    "    location\n",
    "    unique transaction id\n",
    "    amount\n",
    "    associated customer\n",
    "    associated merchant\n",
    "    fraud label\n",
    "\n",
    "    each customer shoud have:\n",
    "    address\n",
    "\n",
    "    each merchant should have: \n",
    "    merchant category\n",
    "\n",
    "    total transaction dataset should have:\n",
    "    10k transactions\n",
    "    1% fraud\n",
    "- [ ] Perform basic data cleaning (nulls, types, duplicates)\n",
    "- [ ] Identify potential feature engineering ideas\n",
    "\n",
    "## Phase 2: Baseline Model\n",
    "- [ ] Split data into train/test\n",
    "- [ ] Train a simple classification model (logistic regression or decision tree)\n",
    "- [ ] Evaluate using ROC AUC, PR AUC\n",
    "\n",
    "## Phase 3: Improvements\n",
    "- [ ] Try feature engineering\n",
    "- [ ] Try different models (e.g., random forest, XGBoost)\n",
    "- [ ] Make input data more realistic! Look up top 5 merchants in top 10 categories instead of random generation. \n",
    "    Can this be a live query from some economic data?\n",
    "- [ ] Compare performance\n",
    "- [ ] install and later configure isort — a tool that automatically reorders your imports the correct way.\n",
    "\n",
    "## Stretch Goals\n",
    "- [ ] Set up a simple pipeline\n",
    "- [ ] Productionize! Can I model a t-1 automated process, or even real-time fraud decisioning?\n",
    "    Alert-allow (send to manual review with SLA... figure out impact to ops teams)\n",
    "    Alert-hold (request step-up verification from customer via auto-contact)\n",
    "    Alert-decline (based on dollar amount, risk score, other factors?)\n",
    "- [ ] Write reusable functions\n",
    "- [ ] Document key findings\n"
   ]
  }
 ],
 "metadata": {
  "kernelspec": {
   "display_name": "Python 3 (ipykernel)",
   "language": "python",
   "name": "python3"
  },
  "language_info": {
   "codemirror_mode": {
    "name": "ipython",
    "version": 3
   },
   "file_extension": ".py",
   "mimetype": "text/x-python",
   "name": "python",
   "nbconvert_exporter": "python",
   "pygments_lexer": "ipython3",
   "version": "3.10.11"
  }
 },
 "nbformat": 4,
 "nbformat_minor": 5
}
